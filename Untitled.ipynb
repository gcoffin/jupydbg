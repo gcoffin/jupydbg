{
 "cells": [
  {
   "cell_type": "code",
   "execution_count": 1,
   "metadata": {},
   "outputs": [],
   "source": [
    "from jupydbg import catch"
   ]
  },
  {
   "cell_type": "code",
   "execution_count": 2,
   "metadata": {},
   "outputs": [
    {
     "data": {
      "application/vnd.jupyter.widget-view+json": {
       "model_id": "b3491cc8850e45549cce7386af42f3ce",
       "version_major": 2,
       "version_minor": 0
      },
      "text/html": [
       "<p>Failed to display Jupyter Widget of type <code>VBox</code>.</p>\n",
       "<p>\n",
       "  If you're reading this message in the Jupyter Notebook or JupyterLab Notebook, it may mean\n",
       "  that the widgets JavaScript is still loading. If this message persists, it\n",
       "  likely means that the widgets JavaScript library is either not installed or\n",
       "  not enabled. See the <a href=\"https://ipywidgets.readthedocs.io/en/stable/user_install.html\">Jupyter\n",
       "  Widgets Documentation</a> for setup instructions.\n",
       "</p>\n",
       "<p>\n",
       "  If you're reading this message in another frontend (for example, a static\n",
       "  rendering on GitHub or <a href=\"https://nbviewer.jupyter.org/\">NBViewer</a>),\n",
       "  it may mean that your frontend doesn't currently support widgets.\n",
       "</p>\n"
      ],
      "text/plain": [
       "VBox(children=(HTML(value=\"NameError: name 'b' is not defined\"), Accordion(children=(VBox(children=(HBox(children=(Text(value='<string>', layout=Layout(margin='0', width='30em')), HTML(value='3', layout=Layout(width='5em')), HTML(value='<module>', layout=Layout(width='20em')))), HBox(children=(Button(layout=Layout(width='10px'), style=ButtonStyle()), HTML(value='<div style=\"\"></div><div style=\"\"></div><div style=\"\"></div><div style=\"color:#0c0\"></div><div style=\"\"></div><div style=\"\"></div><div style=\"\"></div>'))))), VBox(children=(HBox(children=(Text(value='<string>', layout=Layout(margin='0', width='30em')), HTML(value='2', layout=Layout(width='5em')), HTML(value='a', layout=Layout(width='20em')))), HBox(children=(Button(layout=Layout(width='10px'), style=ButtonStyle()), HTML(value='<div style=\"\"></div><div style=\"\"></div><div style=\"\"></div><div style=\"color:#0c0\"></div><div style=\"\"></div><div style=\"\"></div><div style=\"\"></div>')))))), _titles={'0': '<string>.<module>', '1': '<string>.a'})))"
      ]
     },
     "metadata": {},
     "output_type": "display_data"
    }
   ],
   "source": [
    "%%catch\n",
    "def a():\n",
    "    print(b.c)\n",
    "a()"
   ]
  },
  {
   "cell_type": "code",
   "execution_count": null,
   "metadata": {},
   "outputs": [],
   "source": []
  }
 ],
 "metadata": {
  "kernelspec": {
   "display_name": "Python 3",
   "language": "python",
   "name": "python3"
  },
  "language_info": {
   "codemirror_mode": {
    "name": "ipython",
    "version": 3
   },
   "file_extension": ".py",
   "mimetype": "text/x-python",
   "name": "python",
   "nbconvert_exporter": "python",
   "pygments_lexer": "ipython3",
   "version": "3.6.4"
  }
 },
 "nbformat": 4,
 "nbformat_minor": 2
}
